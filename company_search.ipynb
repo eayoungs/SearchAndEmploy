{
 "cells": [
  {
   "cell_type": "markdown",
   "metadata": {},
   "source": [
    "# Load pickled data for exploration"
   ]
  },
  {
   "cell_type": "code",
   "execution_count": null,
   "metadata": {},
   "outputs": [],
   "source": [
    "import pickle\n",
    "import json\n",
    "\n",
    "import pandas as pd"
   ]
  },
  {
   "cell_type": "code",
   "execution_count": null,
   "metadata": {},
   "outputs": [],
   "source": [
    "files = ['lkdn_co_software_ba_szD_0-2k.dat',\n",
    "         'lkdn_co_software_ba_szD_2-4k.dat',\n",
    "         'lkdn_co_software_ba_szD_4-6k.dat',\n",
    "         'lkdn_co_software_ba_szD_6-8k.dat',\n",
    "         'lkdn_co_software_ba_szD_8-10k.dat',\n",
    "        ]\n",
    "\n",
    "companies_df = pd.DataFrame()\n",
    "for file in files:\n",
    "    with open(file, \"rb\") as f:\n",
    "        rspnses = pickle.load(f)\n",
    "\n",
    "    for rspnse in rspnses[:]:\n",
    "        r = json.dumps(rspnse['companies']['values'])\n",
    "        df = pd.io.json.json_normalize(json.loads(r))\n",
    "        companies_df = companies_df.append(df, ignore_index=True)\n",
    "    \n",
    "companies_df.shape"
   ]
  },
  {
   "cell_type": "code",
   "execution_count": null,
   "metadata": {},
   "outputs": [],
   "source": [
    "# companies_df_2k.equals(companies_df_46k)\n",
    "# (companies_df_2k != companies_df_24k).any()"
   ]
  },
  {
   "cell_type": "code",
   "execution_count": null,
   "metadata": {},
   "outputs": [],
   "source": [
    "companies_df.head()"
   ]
  }
 ],
 "metadata": {
  "kernelspec": {
   "display_name": "Python 2",
   "language": "python",
   "name": "python2"
  },
  "language_info": {
   "codemirror_mode": {
    "name": "ipython",
    "version": 2
   },
   "file_extension": ".py",
   "mimetype": "text/x-python",
   "name": "python",
   "nbconvert_exporter": "python",
   "pygments_lexer": "ipython2",
   "version": "2.7.14"
  }
 },
 "nbformat": 4,
 "nbformat_minor": 2
}
