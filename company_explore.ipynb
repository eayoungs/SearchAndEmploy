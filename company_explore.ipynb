{
 "cells": [
  {
   "cell_type": "markdown",
   "metadata": {},
   "source": [
    "# Load pickled data for exploration"
   ]
  },
  {
   "cell_type": "code",
   "execution_count": null,
   "metadata": {},
   "outputs": [],
   "source": [
    "import pickle\n",
    "import json\n",
    "import itertools\n",
    "\n",
    "import pandas as pd"
   ]
  },
  {
   "cell_type": "code",
   "execution_count": null,
   "metadata": {},
   "outputs": [],
   "source": [
    "files = ['./data/lkdn_co_software_ba_szD_0-2k.dat',\n",
    "         './data/lkdn_co_software_ba_szD_2-2k.dat',\n",
    "         './data/lkdn_co_software_ba_szD_4-6k.dat',\n",
    "         './data/lkdn_co_software_ba_szD_6-8k.dat',\n",
    "         './data/lkdn_co_software_ba_szD_8-10k.dat',\n",
    "         './data/lkdn_co_software_ba_szD_10-12k.dat',\n",
    "         './data/lkdn_co_software_ba_szD_12-14k.dat',\n",
    "         './data/lkdn_co_software_ba_szD_14-16k.dat',\n",
    "         './data/lkdn_co_software_ba_szD_16-18k.dat',\n",
    "         './data/lkdn_co_software_ba_szD_18-20k.dat',\n",
    "        ]\n",
    "\n",
    "companies_df = pd.DataFrame()\n",
    "for file in files:\n",
    "    with open(file, \"rb\") as f:\n",
    "        rspnses = pickle.load(f)\n",
    "\n",
    "    for rspnse in rspnses[:]:\n",
    "        r = json.dumps(rspnse['companies']['values'])\n",
    "        df = pd.io.json.json_normalize(json.loads(r))\n",
    "        companies_df = companies_df.append(df, ignore_index=True)\n",
    "    \n",
    "companies_df.shape"
   ]
  },
  {
   "cell_type": "code",
   "execution_count": null,
   "metadata": {},
   "outputs": [],
   "source": [
    "len(companies_df.duplicated('id'))"
   ]
  },
  {
   "cell_type": "code",
   "execution_count": null,
   "metadata": {},
   "outputs": [],
   "source": [
    "companies_df = companies_df.set_index('id', drop=False)\n",
    "companies_df.dropna(how='all')\n",
    "companies_df.loc[companies_df['specialties.values'].isnull(),['specialties.values']] = \\\n",
    "companies_df.loc[companies_df['specialties.values'].isnull(),'specialties.values'].apply(lambda x: [])\n",
    "\n",
    "companies_df.head()"
   ]
  },
  {
   "cell_type": "code",
   "execution_count": null,
   "metadata": {},
   "outputs": [],
   "source": [
    "spec_rows = []\n",
    "[[spec_rows.append(el) for el in val] for val in companies_df['specialties.values']]\n",
    "unique_specialties = set(spec_rows)\n",
    "unique_specialties"
   ]
  },
  {
   "cell_type": "code",
   "execution_count": null,
   "metadata": {},
   "outputs": [],
   "source": [
    "data_cos = []\n",
    "[[data_cos.append(companies_df['id']) for el in val if 'Data' in el] for val in companies_df['specialties.values']]\n",
    "data_cos_indices = set(list(itertools.chain(*data_cos)))\n",
    "data_cos_indices"
   ]
  },
  {
   "cell_type": "code",
   "execution_count": null,
   "metadata": {},
   "outputs": [],
   "source": [
    "companies_df.loc[data_cos_indices]"
   ]
  }
 ],
 "metadata": {
  "kernelspec": {
   "display_name": "Python 2",
   "language": "python",
   "name": "python2"
  },
  "language_info": {
   "codemirror_mode": {
    "name": "ipython",
    "version": 2
   },
   "file_extension": ".py",
   "mimetype": "text/x-python",
   "name": "python",
   "nbconvert_exporter": "python",
   "pygments_lexer": "ipython2",
   "version": "2.7.14"
  }
 },
 "nbformat": 4,
 "nbformat_minor": 2
}
