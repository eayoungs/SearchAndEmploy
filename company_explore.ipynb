{
 "cells": [
  {
   "cell_type": "markdown",
   "metadata": {},
   "source": [
    "# Load pickled data for exploration"
   ]
  },
  {
   "cell_type": "code",
   "execution_count": null,
   "metadata": {},
   "outputs": [],
   "source": [
    "import pickle\n",
    "import json\n",
    "import itertools\n",
    "\n",
    "import pandas as pd"
   ]
  },
  {
   "cell_type": "code",
   "execution_count": null,
   "metadata": {},
   "outputs": [],
   "source": [
    "files = ['lkdn_co_software_ba_szD_0-2k.dat',\n",
    "         'lkdn_co_software_ba_szD_2-4k.dat',\n",
    "         'lkdn_co_software_ba_szD_4-6k.dat',\n",
    "         'lkdn_co_software_ba_szD_6-8k.dat',\n",
    "         'lkdn_co_software_ba_szD_8-10k.dat',\n",
    "        ]\n",
    "\n",
    "companies_df = pd.DataFrame()\n",
    "for file in files:\n",
    "    with open(file, \"rb\") as f:\n",
    "        rspnses = pickle.load(f)\n",
    "\n",
    "    for rspnse in rspnses[:]:\n",
    "        r = json.dumps(rspnse['companies']['values'])\n",
    "        df = pd.io.json.json_normalize(json.loads(r))\n",
    "        companies_df = companies_df.append(df, ignore_index=True)\n",
    "    \n",
    "companies_df.shape"
   ]
  },
  {
   "cell_type": "code",
   "execution_count": null,
   "metadata": {},
   "outputs": [],
   "source": [
    "# companies_df_2k.equals(companies_df_46k)\n",
    "# (companies_df_2k != companies_df_24k).any()"
   ]
  },
  {
   "cell_type": "code",
   "execution_count": null,
   "metadata": {},
   "outputs": [],
   "source": [
    "companies_df.dropna(how='all')\n",
    "companies_df.loc[companies_df['specialties.values'].isnull(),['specialties.values']] = \\\n",
    "companies_df.loc[companies_df['specialties.values'].isnull(),'specialties.values'].apply(lambda x: [])\n",
    "\n",
    "companies_df.head()"
   ]
  },
  {
   "cell_type": "code",
   "execution_count": null,
   "metadata": {},
   "outputs": [],
   "source": [
    "spec_rows = []\n",
    "[[spec_rows.append(el) for el in val] for val in companies_df['specialties.values']]\n",
    "unique_specialties = set(spec_rows)\n",
    "unique_specialties"
   ]
  },
  {
   "cell_type": "code",
   "execution_count": null,
   "metadata": {},
   "outputs": [],
   "source": [
    "data_cos = []\n",
    "[[data_cos.append(companies_df['name']) for el in val if 'Data' in el] for val in companies_df['specialties.values']]\n",
    "data_cos"
   ]
  }
 ],
 "metadata": {
  "kernelspec": {
   "display_name": "Python 2",
   "language": "python",
   "name": "python2"
  },
  "language_info": {
   "codemirror_mode": {
    "name": "ipython",
    "version": 2
   },
   "file_extension": ".py",
   "mimetype": "text/x-python",
   "name": "python",
   "nbconvert_exporter": "python",
   "pygments_lexer": "ipython2",
   "version": "2.7.14"
  }
 },
 "nbformat": 4,
 "nbformat_minor": 2
}
