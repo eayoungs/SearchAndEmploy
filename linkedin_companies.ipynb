{
 "cells": [
  {
   "cell_type": "markdown",
   "metadata": {},
   "source": [
    "# Request filtered company data from Linkedin API\n",
    "https://pypi.python.org/pypi/python-linkedin/4.0"
   ]
  },
  {
   "cell_type": "code",
   "execution_count": null,
   "metadata": {},
   "outputs": [],
   "source": [
    "import pickle\n",
    "import os\n",
    "import json\n",
    "import requests\n",
    "\n",
    "import pandas as pd\n",
    "from sqlalchemy import create_engine\n",
    "\n",
    "from linkedin import linkedin"
   ]
  },
  {
   "cell_type": "code",
   "execution_count": null,
   "metadata": {},
   "outputs": [],
   "source": [
    "# store -r access_token\n",
    "access_token = os.getenv('LINKEDIN_ACCESS_TOKEN') # Use token from redirect URI given in `linkedin_auth` notebook\n",
    "application = linkedin.LinkedInApplication(token=access_token)\n",
    "# access_token"
   ]
  },
  {
   "cell_type": "markdown",
   "metadata": {},
   "source": [
    "`application` object can be used to run querries as per, http://ozgur.github.io/python-linkedin/\n",
    "\n",
    "https://developer.linkedin.com/docs/fields/positions\n",
    "\n",
    "https://developer.linkedin.com/docs/fields/companies\n",
    "\n",
    "https://developer.linkedin.com/docs/fields/company-profile\n",
    "\n",
    "https://developer.linkedin.com/docs/guide/v2/concepts/paging"
   ]
  },
  {
   "cell_type": "code",
   "execution_count": null,
   "metadata": {},
   "outputs": [],
   "source": [
    "rspnse = application.search_company(\n",
    "        selectors=[{'companies': ['id',\n",
    "                                  'name',\n",
    "                                  'universal-name',\n",
    "                                  {'company-type': 'name'},\n",
    "                                  'website-url',\n",
    "                                  {'industries': 'name'},\n",
    "                                  {'status': 'name'},\n",
    "                                  'twitter-id',\n",
    "                                  {'employee-count-range': 'code'},\n",
    "                                  'specialties',\n",
    "                                  'description',\n",
    "                                  'locations',\n",
    "                                  'founded-year',\n",
    "                                  'num-followers',\n",
    "                                 ]\n",
    "        }], # https://stackoverflow.com/questions/30743910/linkedin-company-search-api-multiple-facets?rq=1\n",
    "        params={'start': 0, 'count': 20, 'facet': ['company-size,D', # 51 - 200 employees ( https://developer.linkedin.com/docs/fields/company-profile )\n",
    "                                                  'industry,4',  # Software ( https://developer.linkedin.com/docs/reference/industry-codes )\n",
    "                                                  'location,us:84' # SF Bay ( https://developer.linkedin.com/docs/ref/v2/standardized-data/locations/regions )\n",
    "                                                  ]\n",
    "               }\n",
    "    )\n",
    "rspnse"
   ]
  },
  {
   "cell_type": "code",
   "execution_count": null,
   "metadata": {},
   "outputs": [],
   "source": [
    "# Search URL is https://api.linkedin.com/v1/company-search:(companies:(name,universal-name,website-url))?start=0&count=10&keywords=apple%20microsoft\n",
    "responses = []\n",
    "# for j in range(0,12000,2000):\n",
    "i = 820 # 0\n",
    "while i < 2000:\n",
    "    response = application.search_company(\n",
    "        selectors=[{'companies': ['id',\n",
    "                                  'name',\n",
    "                                  'universal-name',\n",
    "                                  {'company-type': 'name'},\n",
    "                                  'website-url',\n",
    "                                  {'industries': 'name'},\n",
    "                                  {'status': 'name'},\n",
    "                                  'twitter-id',\n",
    "                                  {'employee-count-range': 'code'},\n",
    "                                  'specialties',\n",
    "                                  'description',\n",
    "                                  'locations',\n",
    "                                  'founded-year',\n",
    "                                  'num-followers',\n",
    "                                 ]\n",
    "        }],\n",
    "        params={'start': i, 'count': i + 20, 'facet': ['company-size,D',\n",
    "                                                  'industry,4',\n",
    "                                                  'location,us:84'\n",
    "                                                  ]\n",
    "               }\n",
    "    )\n",
    "    if response['companies']['values']:\n",
    "        responses.append(response)\n",
    "    else:\n",
    "        break\n",
    "    i += 20\n",
    "\n",
    "    with open('lkdn_co_software_ba_szD_0-2k_b.dat', 'wb') as f: # +str((j) / 1000)+'-'+str((j + 2000) / 1000)+'k.dat', 'wb') as f:\n",
    "            pickle.dump(responses, f)"
   ]
  },
  {
   "cell_type": "code",
   "execution_count": null,
   "metadata": {},
   "outputs": [],
   "source": [
    "# companies_df = pd.to_json(\"lkdn_co_software_ba_szD.json\")\n",
    "# companies_df.to_csv(\"lkdn_co_software_ba_szD\", encoding='utf-8')"
   ]
  },
  {
   "cell_type": "code",
   "execution_count": null,
   "metadata": {},
   "outputs": [],
   "source": [
    "# engine = create_engine('postgresql://uname@localhost:5432/mydatabase')\n",
    "# companies_df.to_sql('Linkedin_Companies_Sofrware_SF_Bay_Area', engine)"
   ]
  }
 ],
 "metadata": {
  "kernelspec": {
   "display_name": "Python 3",
   "language": "python",
   "name": "python3"
  },
  "language_info": {
   "codemirror_mode": {
    "name": "ipython",
    "version": 3
   },
   "file_extension": ".py",
   "mimetype": "text/x-python",
   "name": "python",
   "nbconvert_exporter": "python",
   "pygments_lexer": "ipython3",
   "version": "3.7.0"
  }
 },
 "nbformat": 4,
 "nbformat_minor": 2
}
