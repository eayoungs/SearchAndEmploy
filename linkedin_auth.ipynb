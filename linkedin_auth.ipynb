{
 "cells": [
  {
   "cell_type": "code",
   "execution_count": null,
   "metadata": {},
   "outputs": [],
   "source": [
    "import os\n",
    "import re\n",
    "\n",
    "# from urllib3 import urlsplit, parse_qs, urlunsplit\n",
    "# from urllib3 import urlencode\n",
    "\n",
    "from linkedin import linkedin"
   ]
  },
  {
   "cell_type": "code",
   "execution_count": null,
   "metadata": {},
   "outputs": [],
   "source": [
    "API_KEY = os.getenv('LINKEDIN_API_ID')\n",
    "API_SECRET = os.getenv('LINKEDIN_API_SECRET')\n",
    "RETURN_URL = 'http://localhost:8080/code/'"
   ]
  },
  {
   "cell_type": "code",
   "execution_count": null,
   "metadata": {},
   "outputs": [],
   "source": [
    "authentication = linkedin.LinkedInAuthentication(\n",
    "    API_KEY, API_SECRET, RETURN_URL, linkedin.PERMISSIONS.enums.values())\n",
    "\n",
    "auth_url = authentication.authorization_url\n",
    "print(auth_url)"
   ]
  },
  {
   "cell_type": "code",
   "execution_count": null,
   "metadata": {},
   "outputs": [],
   "source": [
    "application = linkedin.LinkedInApplication(token=os.getenv('LINKEDIN_ACCESS_TOKEN'))"
   ]
  },
  {
   "cell_type": "code",
   "execution_count": null,
   "metadata": {},
   "outputs": [],
   "source": [
    "application.get_profile()"
   ]
  },
  {
   "cell_type": "code",
   "execution_count": null,
   "metadata": {},
   "outputs": [],
   "source": [
    "parse = urlsplit(auth_url)\n",
    "query_dict = parse_qs(parse.query)\n",
    "query_dict['scope'] = ['r_basicprofile']\n",
    "new_query = urlencode(query_dict)\n",
    "new_parse = (parse[0], parse[1], parse[2], new_query, parse[4])\n",
    "new_parse\n",
    "urlunsplit(new_parse)"
   ]
  },
  {
   "cell_type": "code",
   "execution_count": null,
   "metadata": {},
   "outputs": [],
   "source": [
    "authentication.authorization_code = authorization_code\n",
    "access_token = authentication.get_access_token()\n",
    "\n",
    "%store access_token"
   ]
  }
 ],
 "metadata": {
  "kernelspec": {
   "display_name": "Python 3",
   "language": "python",
   "name": "python3"
  },
  "language_info": {
   "codemirror_mode": {
    "name": "ipython",
    "version": 3
   },
   "file_extension": ".py",
   "mimetype": "text/x-python",
   "name": "python",
   "nbconvert_exporter": "python",
   "pygments_lexer": "ipython3",
   "version": "3.6.6"
  }
 },
 "nbformat": 4,
 "nbformat_minor": 2
}
