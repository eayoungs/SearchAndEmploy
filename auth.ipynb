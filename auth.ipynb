{
 "cells": [
  {
   "cell_type": "markdown",
   "metadata": {},
   "source": [
    "# Access Linkedin API with a registered app\n",
    "https://github.com/ozgur/python-linkedin"
   ]
  },
  {
   "cell_type": "code",
   "execution_count": null,
   "metadata": {},
   "outputs": [],
   "source": [
    "import os\n",
    "from linkedin import linkedin"
   ]
  },
  {
   "cell_type": "markdown",
   "metadata": {},
   "source": [
    "Create an app on linkedin to get credentials\n",
    "https://www.linkedin.com/developer/apps/"
   ]
  },
  {
   "cell_type": "code",
   "execution_count": null,
   "metadata": {},
   "outputs": [],
   "source": [
    "API_KEY = os.getenv('LINKEDIN_API_KEY')\n",
    "API_SECRET = os.getenv('LINKEDIN_API_SECRET')\n",
    "RETURN_URL = 'http://localhost:8000'\n",
    "print(API_KEY)"
   ]
  },
  {
   "cell_type": "code",
   "execution_count": null,
   "metadata": {},
   "outputs": [],
   "source": [
    "authentication = linkedin.LinkedInAuthentication(\n",
    "    API_KEY, API_SECRET, RETURN_URL, linkedin.PERMISSIONS.enums.values())\n",
    "\n",
    "print authentication.authorization_url"
   ]
  },
  {
   "cell_type": "markdown",
   "metadata": {},
   "source": [
    "Paste the URL ^ above into your browser and accept authentication, copy `authorization_code`"
   ]
  },
  {
   "cell_type": "code",
   "execution_count": null,
   "metadata": {},
   "outputs": [],
   "source": [
    "authentication.authorization_code = authorization_code\n",
    "access_token = authentication.get_access_token()\n",
    "%store access_token"
   ]
  },
  {
   "cell_type": "markdown",
   "metadata": {},
   "source": [
    "Use stored `access_token` in other notebooks"
   ]
  }
 ],
 "metadata": {
  "kernelspec": {
   "display_name": "Python 2",
   "language": "python",
   "name": "python2"
  },
  "language_info": {
   "codemirror_mode": {
    "name": "ipython",
    "version": 2
   },
   "file_extension": ".py",
   "mimetype": "text/x-python",
   "name": "python",
   "nbconvert_exporter": "python",
   "pygments_lexer": "ipython2",
   "version": "2.7.14"
  }
 },
 "nbformat": 4,
 "nbformat_minor": 2
}
