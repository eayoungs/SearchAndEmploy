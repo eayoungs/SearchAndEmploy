{
 "cells": [
  {
   "cell_type": "markdown",
   "metadata": {},
   "source": [
    "# Explore the Linkedin API\n",
    "https://pypi.python.org/pypi/python-linkedin/4.0"
   ]
  },
  {
   "cell_type": "code",
   "execution_count": null,
   "metadata": {},
   "outputs": [],
   "source": [
    "from linkedin import linkedin\n",
    "import requests\n",
    "\n",
    "import pandas as pd\n",
    "from IPython.display import display\n",
    "#from ipywidgets import interact, interactive, fixed, interact_manual\n",
    "#import ipywidgets as widgets"
   ]
  },
  {
   "cell_type": "code",
   "execution_count": null,
   "metadata": {},
   "outputs": [],
   "source": [
    "%store -r access_token\n",
    "application = linkedin.LinkedInApplication(token=access_token)"
   ]
  },
  {
   "cell_type": "markdown",
   "metadata": {},
   "source": [
    "`application` object can be used to run querries as per, http://ozgur.github.io/python-linkedin/\n",
    "\n",
    "https://developer.linkedin.com/docs/fields/company-profile"
   ]
  },
  {
   "cell_type": "code",
   "execution_count": null,
   "metadata": {},
   "outputs": [],
   "source": [
    "# Search URL is https://api.linkedin.com/v1/company-search:(companies:(name,universal-name,website-url))?start=0&count=10&keywords=apple%20microsoft\n",
    "response = application.search_company(\n",
    "    selectors=[{'companies': ['id',\n",
    "                              'name',\n",
    "                              'universal-name',\n",
    "                              {'company-type': 'name'},\n",
    "                              {'industries': 'name'},\n",
    "                              {'status': 'name'},\n",
    "                              {'employee-count-range': 'name'},\n",
    "                              'specialties',\n",
    "                              'description',\n",
    "                              'locations'#:(address:(city))'\n",
    "                             ]\n",
    "    }],\n",
    "    #params={'keywords': 'data'}\n",
    ")\n",
    "#companies = search['companies']['values'] # List of dictionaries\n",
    "#companies[0].keys()"
   ]
  },
  {
   "cell_type": "markdown",
   "metadata": {},
   "source": [
    "https://developer.linkedin.com/docs/guide/v2/concepts/paging"
   ]
  },
  {
   "cell_type": "code",
   "execution_count": null,
   "metadata": {},
   "outputs": [],
   "source": [
    "companies_df = pd.DataFrame.from_dict(response['companies']['values'])\n",
    "companies_df"
   ]
  },
  {
   "cell_type": "code",
   "execution_count": null,
   "metadata": {},
   "outputs": [],
   "source": [
    "i = 0\n",
    "for company in companies_df:\n",
    "    print(str(companies_df['companyType'][i]['name']))\n",
    "    i += 1"
   ]
  },
  {
   "cell_type": "markdown",
   "metadata": {},
   "source": [
    "https://developer.linkedin.com/docs/fields/basic-profile\n",
    "\n",
    "https://developer.linkedin.com/docs/fields/positions\n",
    "\n",
    "https://developer.linkedin.com/docs/fields/companies"
   ]
  }
 ],
 "metadata": {
  "kernelspec": {
   "display_name": "Python 2",
   "language": "python",
   "name": "python2"
  },
  "language_info": {
   "codemirror_mode": {
    "name": "ipython",
    "version": 2
   },
   "file_extension": ".py",
   "mimetype": "text/x-python",
   "name": "python",
   "nbconvert_exporter": "python",
   "pygments_lexer": "ipython2",
   "version": "2.7.14"
  }
 },
 "nbformat": 4,
 "nbformat_minor": 2
}
