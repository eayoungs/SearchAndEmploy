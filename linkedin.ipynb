{
 "cells": [
  {
   "cell_type": "markdown",
   "metadata": {},
   "source": [
    "# Explore the Linkedin API\n",
    "https://pypi.python.org/pypi/python-linkedin/4.0"
   ]
  },
  {
   "cell_type": "code",
   "execution_count": null,
   "metadata": {},
   "outputs": [],
   "source": [
    "import os\n",
    "\n",
    "from linkedin import linkedin\n",
    "import pandas as pd"
   ]
  },
  {
   "cell_type": "code",
   "execution_count": null,
   "metadata": {},
   "outputs": [],
   "source": [
    "access_token = os.getenv('LINKEDIN_ACCESS_TOKEN')\n",
    "application = linkedin.LinkedInApplication(token=access_token)#'AQVEzM-ZbB9h7cg160q3-VMCx2oY4xGko_cdVBxqce_DpU-JPejRBXLgq0cb27SdGxKhAeAhwlknGBNYj0ZN7x7LW128K6OMvp7Z7XjGtqphR0BGKyFLmZSir6Dz8lOVALnICPnggJ0RQU_GdfwlByjRy-eRTWpUfmDWD9ayGJl0ihiON17gYXn0S0OdiZ6uFf-Zfh9h6i0XSnp-388qdbFQBvWqdT1Zn2MGIHPBLxldDRLNOt_9Mj6fhMIgAtBhS7-KwlntU5VstHPMxLq2g2AvHHrWUBa5dVGxHDHahcG82Nr4PQe1o-35PlMDXfPt7Sr4I21lblGtCktLEtUL4jSNCAp9Sw')"
   ]
  },
  {
   "cell_type": "markdown",
   "metadata": {},
   "source": [
    "https://developer.linkedin.com/docs/fields/company-profile"
   ]
  },
  {
   "cell_type": "code",
   "execution_count": null,
   "metadata": {},
   "outputs": [],
   "source": [
    "# Search URL is https://api.linkedin.com/v1/company-search:(companies:(name,universal-name,website-url))?keywords=apple%20microsoft\n",
    "search = application.search_company(\n",
    "    selectors=[{'companies': ['name', 'universal-name', 'website-url']}],\n",
    "    params={'keywords': 'apple microsoft'}\n",
    ")\n",
    "df = pd.DataFrame.from_dict(search['companies']['values'])"
   ]
  },
  {
   "cell_type": "code",
   "execution_count": null,
   "metadata": {},
   "outputs": [],
   "source": [
    "df.head()"
   ]
  }
 ],
 "metadata": {
  "kernelspec": {
   "display_name": "Python 2",
   "language": "python",
   "name": "python2"
  },
  "language_info": {
   "codemirror_mode": {
    "name": "ipython",
    "version": 2
   },
   "file_extension": ".py",
   "mimetype": "text/x-python",
   "name": "python",
   "nbconvert_exporter": "python",
   "pygments_lexer": "ipython2",
   "version": "2.7.14"
  }
 },
 "nbformat": 4,
 "nbformat_minor": 2
}
