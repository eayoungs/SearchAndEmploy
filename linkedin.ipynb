{
 "cells": [
  {
   "cell_type": "markdown",
   "metadata": {},
   "source": [
    "# Explore the Linkedin API\n",
    "https://pypi.python.org/pypi/python-linkedin/4.0"
   ]
  },
  {
   "cell_type": "code",
   "execution_count": null,
   "metadata": {},
   "outputs": [],
   "source": [
    "import os\n",
    "\n",
    "from linkedin import linkedin\n",
    "import requests\n",
    "\n",
    "import pandas as pd\n",
    "from IPython.display import display\n",
    "#from ipywidgets import interact, interactive, fixed, interact_manual\n",
    "#import ipywidgets as widgets"
   ]
  },
  {
   "cell_type": "code",
   "execution_count": null,
   "metadata": {},
   "outputs": [],
   "source": [
    "access_token = os.getenv('LINKEDIN_ACCESS_TOKEN')\n",
    "application = linkedin.LinkedInApplication(token=access_token)"
   ]
  },
  {
   "cell_type": "markdown",
   "metadata": {},
   "source": [
    "https://developer.linkedin.com/docs/fields/company-profile"
   ]
  },
  {
   "cell_type": "code",
   "execution_count": null,
   "metadata": {},
   "outputs": [],
   "source": [
    "# Search URL is https://api.linkedin.com/v1/company-search:(companies:(name,universal-name,website-url))?keywords=apple%20microsoft\n",
    "search = application.search_company(\n",
    "    selectors=[{'companies': ['id',\n",
    "                              'name',\n",
    "                              'universal-name',\n",
    "                              {'company-type': 'name'},\n",
    "                              {'industries': 'name'},\n",
    "                              {'status': 'name'},\n",
    "                              {'employee-count-range': 'name'},\n",
    "                              'specialties',\n",
    "                              'description',\n",
    "                              'locations:(address:(city))'\n",
    "                             ]\n",
    "    }],\n",
    "    params={'keywords': 'data'}\n",
    ")\n",
    "response = search['companies']['values'] # List of dictionaries\n",
    "response[0].keys()\n",
    "[response['locations'] for response in response]\n",
    "#df = pd.DataFrame.from_dict(search['companies']['values'])\n",
    "#df.head()"
   ]
  },
  {
   "cell_type": "markdown",
   "metadata": {},
   "source": [
    "https://developer.linkedin.com/docs/fields/basic-profile\n",
    "\n",
    "https://developer.linkedin.com/docs/fields/positions\n",
    "\n",
    "https://developer.linkedin.com/docs/fields/companies"
   ]
  },
  {
   "cell_type": "code",
   "execution_count": null,
   "metadata": {},
   "outputs": [],
   "source": [
    "application.search_profile(selectors=[{'people': ['id',\n",
    "                                                  'first-name',\n",
    "                                                  'last-name',\n",
    "                                                  {'positions': {'company': 'id', 'name'}}\n",
    "                                                 ]\n",
    "                           }],\n",
    "                           params={'keywords': 'apple microsoft'}\n",
    ")\n",
    "# Search URL is https://api.linkedin.com/v1/people-search:(people:(first-name,last-name))?keywords=apple%20microsoft"
   ]
  },
  {
   "cell_type": "code",
   "execution_count": null,
   "metadata": {},
   "outputs": [],
   "source": [
    "url = 'https://api.linkedin.com/v1/people-search:(people:(first-name,last-name))?keywords=apple%20microsoft'\n",
    "head = {'Authorization': 'access_token {}'.format(access_token)}\n",
    "response = requests.get(url, headers=head)\n",
    "\n",
    "response.content"
   ]
  }
 ],
 "metadata": {
  "kernelspec": {
   "display_name": "Python 2",
   "language": "python",
   "name": "python2"
  },
  "language_info": {
   "codemirror_mode": {
    "name": "ipython",
    "version": 2
   },
   "file_extension": ".py",
   "mimetype": "text/x-python",
   "name": "python",
   "nbconvert_exporter": "python",
   "pygments_lexer": "ipython2",
   "version": "2.7.14"
  }
 },
 "nbformat": 4,
 "nbformat_minor": 2
}
