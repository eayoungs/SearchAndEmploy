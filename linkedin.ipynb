{
 "cells": [
  {
   "cell_type": "markdown",
   "metadata": {},
   "source": [
    "# Explore the Linkedin API\n",
    "https://pypi.python.org/pypi/python-linkedin/4.0"
   ]
  },
  {
   "cell_type": "code",
   "execution_count": null,
   "metadata": {},
   "outputs": [],
   "source": [
    "import os\n",
    "import json\n",
    "import requests\n",
    "\n",
    "from linkedin import linkedin\n",
    "\n",
    "import pandas as pd\n",
    "from sqlalchemy import create_engine\n",
    "from IPython.display import display\n",
    "# from ipywidgets import interact, interactive, fixed, interact_manual\n",
    "# import ipywidgets as widgets"
   ]
  },
  {
   "cell_type": "code",
   "execution_count": null,
   "metadata": {},
   "outputs": [],
   "source": [
    "# store -r access_token\n",
    "access_token = os.getenv('LINKEDIN_ACCESS_TOKEN')\n",
    "application = linkedin.LinkedInApplication(token=access_token)\n",
    "# access_token"
   ]
  },
  {
   "cell_type": "markdown",
   "metadata": {},
   "source": [
    "`application` object can be used to run querries as per, http://ozgur.github.io/python-linkedin/\n",
    "\n",
    "https://developer.linkedin.com/docs/fields/company-profile\n",
    "\n",
    "https://developer.linkedin.com/docs/fields/positions\n",
    "\n",
    "https://developer.linkedin.com/docs/fields/companies\n",
    "\n",
    "https://developer.linkedin.com/docs/guide/v2/concepts/paging"
   ]
  },
  {
   "cell_type": "code",
   "execution_count": null,
   "metadata": {},
   "outputs": [],
   "source": [
    "rspnse = application.search_company(\n",
    "        selectors=[{'companies': ['id',\n",
    "                                  'name',\n",
    "                                  'universal-name',\n",
    "                                  {'company-type': 'name'},\n",
    "                                  'email-domains',\n",
    "                                  'website-url',\n",
    "                                  {'industries': 'name'},\n",
    "                                  {'status': 'name'},\n",
    "                                  'twitter-id',\n",
    "                                  {'employee-count-range': 'code'},\n",
    "                                  'specialties',\n",
    "                                  'description',\n",
    "                                  'locations',\n",
    "                                  'founded-year',\n",
    "                                  'num-followers',\n",
    "                                 ]\n",
    "        }],\n",
    "        params={'start': 0, 'count': 1, 'keywords': 'data'}\n",
    "    )\n",
    "r = json.dumps(rspnse['companies']['values'])\n",
    "pd.io.json.json_normalize(json.loads(r))"
   ]
  },
  {
   "cell_type": "code",
   "execution_count": null,
   "metadata": {},
   "outputs": [],
   "source": [
    "# Search URL is https://api.linkedin.com/v1/company-search:(companies:(name,universal-name,website-url))?start=0&count=10&keywords=apple%20microsoft\n",
    "companies_df = pd.DataFrame([])\n",
    "i = 0\n",
    "while i <= 5000:\n",
    "    response = application.search_company(\n",
    "        selectors=[{'companies': ['id',\n",
    "                                  'name',\n",
    "                                  'universal-name',\n",
    "                                  {'company-type': 'name'},\n",
    "                                  # 'email-domains',\n",
    "                                  'website-url',\n",
    "                                  {'industries': 'name'},\n",
    "                                  {'status': 'name'},\n",
    "                                  'twitter-id',\n",
    "                                  {'employee-count-range': 'code'},\n",
    "                                  {'specialties': 'values'},#\n",
    "                                  'description',\n",
    "                                  {'locations': 'values'},#\n",
    "                                  'founded-year',\n",
    "                                  'num-followers',\n",
    "                                 ]\n",
    "        }],\n",
    "        params={'start': i, 'count': i + 20, 'keywords': 'data'}\n",
    "    )\n",
    "    r = json.dumps(response['companies']['values'])\n",
    "    df = pd.io.json.json_normalize(json.loads(r))\n",
    "    companies_df = companies_df.append(df, ignore_index=True)\n",
    "    i += 20\n",
    "companies_df.shape"
   ]
  },
  {
   "cell_type": "markdown",
   "metadata": {},
   "source": [
    "Some inconsistency in the data is breaking the loop ^ after < 2k records returned"
   ]
  },
  {
   "cell_type": "code",
   "execution_count": null,
   "metadata": {},
   "outputs": [],
   "source": [
    "companies_df = pd.to_json(\"c_empl_cnt_df.json\")\n",
    "companies_df.to_csv(\"c_empl_cnt_df.csv\", encoding='utf-8')\n",
    "\n",
    "engine = create_engine('postgresql://uname@localhost:5432/mydatabase')\n",
    "companies_df.to_sql('Linkedin_Companies_Employee_Count_C', engine)\n",
    "companies_df.shape"
   ]
  },
  {
   "cell_type": "code",
   "execution_count": null,
   "metadata": {},
   "outputs": [],
   "source": [
    "c_empl_cnt_df = companies_df[companies_df['employeeCountRange.code']=='C']\n",
    "c_empl_cnt_df.shape"
   ]
  }
 ],
 "metadata": {
  "kernelspec": {
   "display_name": "Python 2",
   "language": "python",
   "name": "python2"
  },
  "language_info": {
   "codemirror_mode": {
    "name": "ipython",
    "version": 2
   },
   "file_extension": ".py",
   "mimetype": "text/x-python",
   "name": "python",
   "nbconvert_exporter": "python",
   "pygments_lexer": "ipython2",
   "version": "2.7.14"
  }
 },
 "nbformat": 4,
 "nbformat_minor": 2
}
